{
 "cells": [
  {
   "cell_type": "markdown",
   "metadata": {},
   "source": [
    "## Report: act_report"
   ]
  },
  {
   "cell_type": "markdown",
   "metadata": {},
   "source": [
    "I recently started the Data Analyst Nanodegree program from Udacity and its been such an exhilarating experience. This time, I was tasked to first wrangle the WeRateDogs(@dog_rates) tweets from 3 different sources, and then generate insights and visualization. \n",
    "\n",
    "For context purposes, the WeRateDogs Twitter account rates dogs with playful comments alongside a rating system that's 'out-of-the-box'. Their rating system is mostly on a scale of 10 but most of the dogs are usually rated above 10. e.g 13/10"
   ]
  },
  {
   "cell_type": "markdown",
   "metadata": {},
   "source": [
    "<blockquote class=\"twitter-tweet\"><p lang=\"en\" dir=\"ltr\">This is Ned. He trusted you with the aux cord during this car ride. Regrets that decision. 12/10 <a href=\"https://t.co/Ytkljke1ee\">pic.twitter.com/Ytkljke1ee</a></p>&mdash; WeRateDogs® (@dog_rates) <a href=\"https://twitter.com/dog_rates/status/1570173622202802178?ref_src=twsrc%5Etfw\">September 14, 2022</a></blockquote> <script async src=\"https://platform.twitter.com/widgets.js\" charset=\"utf-8\"></script>"
   ]
  },
  {
   "cell_type": "markdown",
   "metadata": {},
   "source": [
    "### 1. Wrangling summary"
   ]
  },
  {
   "cell_type": "markdown",
   "metadata": {},
   "source": [
    "I started out by gathering the dataset from the various sources- csv, json.txt and tsv files. I leveraged pandas, requests and json libraries to ensure that all 3 datasets were porperly loaded in order to start assessing the dataset to identify certain quality and tidiness issues using both visual and programmatic assessment. \n",
    "\n",
    "Once cleaned out properly, all 3 datasets were stored in a file called 'twitter_archive_master.csv' which was read into the dataframe 'weratedogs_data2'"
   ]
  },
  {
   "cell_type": "markdown",
   "metadata": {},
   "source": [
    "### 2. Generating Insights"
   ]
  },
  {
   "cell_type": "markdown",
   "metadata": {},
   "source": [
    "* Some of the insight generated was to know the most popular rating. That way, it will be easier to understand whether or not a dog's rating falls below par or not. I used the value_counts() method to count the number of values in the appropriate column"
   ]
  },
  {
   "cell_type": "markdown",
   "metadata": {},
   "source": [
    "* Another insight that was important for me was to know the key attributes of  the dog that gained the most retweets during the period. This could serve as a pointer for what attributes people are most drawn to in a dog when this is performed on the entire dataset at large and aggregated. "
   ]
  },
  {
   "cell_type": "markdown",
   "metadata": {},
   "source": [
    "* I finally wanted to understand how retweet_count has fared over the period as an indication of reach. Is the Twitter page improving its reach through its retweets? So I simply selected the 'timestamp' column and applied the groupby function on the extracted 'year'(from the timestamp) values in order to get the aggregate sum, mean and max of 'retweet_count'. It was also important that I considered only the mean aggregate values for the year 2015, 2016 and 2017. Note that WeRateDogs joined Twitter only in November 2015 and having to consider sum aggregate values will make the results totally biased against 2015"
   ]
  },
  {
   "cell_type": "markdown",
   "metadata": {},
   "source": [
    "#### Insights Summary:"
   ]
  },
  {
   "cell_type": "markdown",
   "metadata": {},
   "source": [
    "1. 12 is the most popular rating given on a scale of 10\n",
    "\n",
    "2. The dog had a total of 79,515 retweets, dog_stage: 'doggo', specie: 'Labrador_retriever', rating: 13/10\n",
    "\n",
    "3. Since the Twitter page started November 2015, it will be biased to use total number of retweets. However, there's been a steady increase in the 'mean' number of retweets over the period"
   ]
  },
  {
   "cell_type": "markdown",
   "metadata": {},
   "source": [
    "### 3. Visualization"
   ]
  },
  {
   "cell_type": "markdown",
   "metadata": {},
   "source": [
    "I visualized my 3rd insight from above to show how the mean number of retweets have grown over the period"
   ]
  },
  {
   "attachments": {
    "image.png": {
     "image/png": "[encoded data removed]"
    }
   },
   "cell_type": "markdown",
   "metadata": {},
   "source": [
    "![image.png](attachment:image.png)"
   ]
  },
  {
   "cell_type": "markdown",
   "metadata": {},
   "source": [
    "* 2017 shows the year with the most number of 'mean' retweets from the barchart above which is also indicative that reach levels are improving"
   ]
  },
  {
   "cell_type": "markdown",
   "metadata": {},
   "source": [
    "##### I hope you enjoyed reading this, I am open to feedback and corrections where necessary. Thank you!"
   ]
  },
  {
   "cell_type": "code",
   "execution_count": null,
   "metadata": {},
   "outputs": [],
   "source": []
  }
 ],
 "metadata": {
  "kernelspec": {
   "display_name": "Python 3",
   "language": "python",
   "name": "python3"
  },
  "language_info": {
   "codemirror_mode": {
    "name": "ipython",
    "version": 3
   },
   "file_extension": ".py",
   "mimetype": "text/x-python",
   "name": "python",
   "nbconvert_exporter": "python",
   "pygments_lexer": "ipython3",
   "version": "3.6.3"
  }
 },
 "nbformat": 4,
 "nbformat_minor": 2
}
