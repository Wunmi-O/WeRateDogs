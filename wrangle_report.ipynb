{
 "cells": [
  {
   "cell_type": "markdown",
   "metadata": {},
   "source": [
    "## Reporting: wrangle_report"
   ]
  },
  {
   "cell_type": "markdown",
   "metadata": {},
   "source": [
    "The task at hand was to wrangle the WeRateDogs tweets from 3 different sources. I started out by gathering the dataset from the various sources- csv, json.txt and tsv files. I leveraged pandas, requests and json libraries to ensure that all 3 datasets were porperly loaded in order to start assessing the dataset to identify certain quality and tidiness issues using both visual and programmatic assessment. \n",
    "\n",
    "In summary during visual assessment, it was noticed that: \n",
    "1. Certain cells had their values repeated and seperated by comma\n",
    "2. The 'text' column included a short url link \n",
    "3. The 'source' column had its html tag included\n",
    "4. Standardization of capitalizing the first letter of dog names were missing\n",
    "5. Data included retweets, replies, quotes etc. \n",
    "\n",
    "With programmatic assessment, I was able to figure out: \n",
    "1. Some cells did not have the correct data type\n",
    "2. The ratings denominator were not entirely 10\n",
    "3. Important cells containing 'expanded_urls' were missing\n",
    "\n",
    "Once assessment was done, I moved on to cleaning the various issues spotted. Using the **'Define', 'Code', 'Test'** sequence to tackle each issue appropriately.\n",
    "\n",
    "* The str. split() function was very useful for cells that had their values repeated and seperated by a comma"
   ]
  },
  {
   "cell_type": "raw",
   "metadata": {},
   "source": [
    "weratedogs_archive1['expanded_urls']=weratedogs_archive1['expanded_urls'].str.split(\",\", n=1, expand=True)"
   ]
  },
  {
   "cell_type": "markdown",
   "metadata": {},
   "source": [
    "* I used the astype() function for conversion to the right data types:"
   ]
  },
  {
   "cell_type": "raw",
   "metadata": {},
   "source": [
    "weratedogs_archive1['timestamp']=weratedogs_archive1['timestamp'].astype('datetime64[ns]')"
   ]
  },
  {
   "cell_type": "markdown",
   "metadata": {},
   "source": [
    "* The regex function was very useful for the extraction of url links from both the text and source column"
   ]
  },
  {
   "cell_type": "raw",
   "metadata": {},
   "source": [
    "weratedogs_archive1['short_url']=weratedogs_archive1['text'].str.extract(r'(?P<url>https?://[^\\s]+)')"
   ]
  },
  {
   "cell_type": "markdown",
   "metadata": {},
   "source": [
    "* In order to take out specific retweets, replies and quotes since the aim of the analysis was for original tweets. I had to drop rows where the selected columns had values"
   ]
  },
  {
   "cell_type": "raw",
   "metadata": {},
   "source": [
    "weratedogs_additionaldata1=weratedogs_additionaldata1[weratedogs_additionaldata1.quoted_status_id.isnull()]\n",
    "weratedogs_additionaldata1=weratedogs_additionaldata1.drop(['quoted_status','quoted_status_id','quoted_status_id_str'], axis=1)"
   ]
  },
  {
   "cell_type": "markdown",
   "metadata": {},
   "source": [
    "* By the time I was done cleaning, I was left with only a few rows whose url were completely missing or ratings denominator not 10. So I am simply dropped them as they will not affect the data's quality."
   ]
  },
  {
   "cell_type": "raw",
   "metadata": {},
   "source": [
    "weratedogs_archive1=weratedogs_archive1.dropna(axis=0, subset=['expanded_urls'])"
   ]
  },
  {
   "cell_type": "markdown",
   "metadata": {},
   "source": [
    "* Once all 3 datasets were properly gathered, assessed and clean, I joined all 3 of them on the 'tweet_id' column and saved them in the file named 'twitter_archive_master.csv'. \n",
    "\n",
    "And that concludes the data wrangling process for all 3 datasets of WeRateDogs. "
   ]
  },
  {
   "cell_type": "code",
   "execution_count": null,
   "metadata": {},
   "outputs": [],
   "source": []
  }
 ],
 "metadata": {
  "kernelspec": {
   "display_name": "Python 3",
   "language": "python",
   "name": "python3"
  },
  "language_info": {
   "codemirror_mode": {
    "name": "ipython",
    "version": 3
   },
   "file_extension": ".py",
   "mimetype": "text/x-python",
   "name": "python",
   "nbconvert_exporter": "python",
   "pygments_lexer": "ipython3",
   "version": "3.6.3"
  }
 },
 "nbformat": 4,
 "nbformat_minor": 2
}
